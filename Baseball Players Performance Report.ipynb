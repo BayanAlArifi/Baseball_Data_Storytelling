{
 "cells": [
  {
   "cell_type": "markdown",
   "metadata": {},
   "source": [
    "# Baseball Players Performance\n",
    "## Table of Contents\n",
    "<ul>\n",
    "<li><a href=\"#intro\">Introduction</a></li>\n",
    "<li><a href=\"#Summary\">Summary</a></li>\n",
    "<li><a href=\"#Design\">Design</a></li>\n",
    "<li><a href=\"#Feedback\">Feedback</a></li>\n",
    "<li><a href=\"#Findings\">Findings</a></li>\n",
    "<li><a href=\"#Resources\">Resources</a></li>\n",
    "</ul>"
   ]
  },
  {
   "cell_type": "markdown",
   "metadata": {},
   "source": [
    "<a id='intro'></a>\n",
    "## Introduction\n",
    "This report presents the data visualization steps taken on the baseball players performance data, and communicates the\n",
    "findings and patterns found. The analysis and visualization was done using Python and Tableau, and a dataset containing 1,151 baseball players."
   ]
  },
  {
   "cell_type": "markdown",
   "metadata": {},
   "source": [
    "### Dataset Overview\n",
    "A baseball dataset containing 1,151 baseball players including their;\n",
    "* name: first and last name\n",
    "* handedness: right or left handed\n",
    "* height: in inches\n",
    "* weight: in pounds\n",
    "* avg: batting average\n",
    "* HR: home runs"
   ]
  },
  {
   "cell_type": "markdown",
   "metadata": {},
   "source": [
    "<a id='Summary'></a>\n",
    "## Summary\n",
    "Different visualization charts were used to communicate insights on the performanc of the baseball players. More specifically, the relationship between the variables handedness, batting average, height, and weight were analyzed to explore their effect on how many home run hits a players gets. This was visualized using bar and pie charts. A chart was created for each dimention/variable."
   ]
  },
  {
   "cell_type": "markdown",
   "metadata": {},
   "source": [
    "<a id='Design'></a>\n",
    "## Design\n",
    "The pie chart was chosen to show the distribution of the players based on their handedness. This intatnly can tell us which hand most baseball players in the dataset use. Bar chart was used to show how much pounds each player weighs, and how much inches tall each player is. They were also used to show how the batting average score for each player. Unlike a skatter plot, bars stacked next to each other in a bar chart instantly gives away the top player rather than trying to map each dot in a skatter plot to the metric value trying to find whether or not it is high. Color-coding was used to distinguish between the metrics/dimentions. Labels next to each bar/slice are shown to communicate the exact value. Also, the average for each metric is illustrated by a dashed reference line on each chart.\n",
    "\n",
    "### Initial Design\n",
    "  ![image.png](Dashboards/Screenshots/InitialDesign.png)\n",
    "\n",
    "Tableau Public Workbook: https://public.tableau.com/views/BaseballPlayersDataStory/InitialDesign?:embed=y&:display_count=yes&publish=yes"
   ]
  },
  {
   "cell_type": "markdown",
   "metadata": {},
   "source": [
    "<a id='Feedback'></a>\n",
    "## Feedback\n",
    "\n",
    "**Reviewer's Feedback**\n",
    "* It is difficult to track whether or not the same player exists in the top players for each dimention/variable.\n",
    "* I suggest that the charts only focus on the top 5 or 10 players. There's no need in this scenario to review all the players.\n",
    "* Use more meaningful chart titles.\n",
    "* Using the same colors in the pie chart is confusing since it doesn't consider the dimentions for which these colors are codes for.\n",
    "* The average lines are not very clear\n",
    "\n",
    "As a response to the feedback, a new visualization was produced. To help declutter the dashboard, two main changes were made.\n",
    "   1. This new visualization combines all the charts in one bar chart with interface elements on the right to help the reader interact with the chart, showing different metrics and how they relate/affected the top players home runs.\n",
    "   2. This chart focuses on the top 10 players with hom run hits only, showing the player's name, handedness, and home runs. Only these dimentions are fixed. The rest of the dimentions weight, height and batting average are dynamically shown when chosen in order to see how each of these metrics relate to high home run hits. In the legend, there are interface elements to help interact with the chart dynamically. Moreover, there's a choice of metric to show as a bullet-point list, and a summary of the home runs dimention and the metric. The metric bars are color-coded based on the metric choice. Hovering over each bar shows the the player's name, handedness, home runs, and the chosen metric; batting average, weight, and height. The average of the top performaing players for each metric is illustrated by the dashed reference line on the chart.\n",
    "It was found that players with weights around this average scored the most amount of home runs.\n",
    "\n",
    "### Final Design\n",
    "* **When choosing the Batting metric:**\n",
    "  ![image.png](Dashboards/Screenshots/FinalDesign_Batting.png)\n",
    "* **When choosing the Weight metric:**\n",
    "  ![image.png](Dashboards/Screenshots/FinalDesign_Weight.png)\n",
    "* **When choosing the Height metric:**\n",
    "  ![image.png](Dashboards/Screenshots/FinalDesign_Height.png)\n",
    "\n",
    "Tableau Public Workbook: https://public.tableau.com/views/BaseballPlayersPerformance_FinalDesign/FinalDesign?:embed=y&:display_count=yes&publish=yes"
   ]
  },
  {
   "cell_type": "markdown",
   "metadata": {},
   "source": [
    "<a id='Findings'></a>\n",
    "## Findings\n",
    "* The following table shows briefly summarizes the players in the dataset.\n",
    "  ![image.png](table.png)\n",
    "\n",
    "* Players with weights around average weight of 184 scored the most amount of home runs.\n",
    "* There is no clear relationship between performance and weight.\n",
    "* The top 10 performing baseball players happen to be;\n",
    "    * right handed\n",
    "    * have a weight between 175 and 210 pounds (average is 191)\n",
    "    * have a height between 71 and 78 inches (average is 73)\n",
    "    * have a batting score between 0.236 and 0.298 (average is 0.2672)"
   ]
  },
  {
   "cell_type": "markdown",
   "metadata": {},
   "source": [
    "<a id='Resources'></a>\n",
    "## Resources\n",
    "* http://www.storytellingwithdata.com\n",
    "* https://policyviz.com/blog/\n",
    "* https://www.data-to-viz.com/\n",
    "* https://www.data-to-viz.com/caveats.html"
   ]
  }
 ],
 "metadata": {
  "kernelspec": {
   "display_name": "Python 3",
   "language": "python",
   "name": "python3"
  },
  "language_info": {
   "codemirror_mode": {
    "name": "ipython",
    "version": 3
   },
   "file_extension": ".py",
   "mimetype": "text/x-python",
   "name": "python",
   "nbconvert_exporter": "python",
   "pygments_lexer": "ipython3",
   "version": "3.6.3"
  }
 },
 "nbformat": 4,
 "nbformat_minor": 2
}
