{
 "cells": [
  {
   "cell_type": "markdown",
   "metadata": {},
   "source": [
    "## Environment Setup"
   ]
  },
  {
   "cell_type": "code",
   "execution_count": 2,
   "metadata": {
    "collapsed": true
   },
   "outputs": [],
   "source": [
    "# import needed libraries\n",
    "import pandas as pd # for creating and manipulating dataframes\n",
    "import numpy as np # for scientific computing\n",
    "import matplotlib.pyplot as plt # for 2D plotting\n",
    "\n",
    "# for displaying the plots inline\n",
    "%matplotlib inline"
   ]
  },
  {
   "cell_type": "code",
   "execution_count": 224,
   "metadata": {
    "collapsed": true
   },
   "outputs": [],
   "source": [
    "# Load data in a dataframe\n",
    "data = pd.read_csv('baseball_clean_data.csv')"
   ]
  },
  {
   "cell_type": "code",
   "execution_count": 225,
   "metadata": {},
   "outputs": [
    {
     "name": "stdout",
     "output_type": "stream",
     "text": [
      "<class 'pandas.core.frame.DataFrame'>\n",
      "RangeIndex: 1151 entries, 0 to 1150\n",
      "Data columns (total 6 columns):\n",
      "name          1151 non-null object\n",
      "handedness    1151 non-null object\n",
      "height        1151 non-null int64\n",
      "weight        1151 non-null int64\n",
      "avg           1151 non-null float64\n",
      "HR            1151 non-null int64\n",
      "dtypes: float64(1), int64(3), object(2)\n",
      "memory usage: 54.0+ KB\n"
     ]
    }
   ],
   "source": [
    "# Display the first 5 tweets in the dataframe\n",
    "data.info()"
   ]
  },
  {
   "cell_type": "code",
   "execution_count": 226,
   "metadata": {},
   "outputs": [
    {
     "data": {
      "text/html": [
       "<div>\n",
       "<style>\n",
       "    .dataframe thead tr:only-child th {\n",
       "        text-align: right;\n",
       "    }\n",
       "\n",
       "    .dataframe thead th {\n",
       "        text-align: left;\n",
       "    }\n",
       "\n",
       "    .dataframe tbody tr th {\n",
       "        vertical-align: top;\n",
       "    }\n",
       "</style>\n",
       "<table border=\"1\" class=\"dataframe\">\n",
       "  <thead>\n",
       "    <tr style=\"text-align: right;\">\n",
       "      <th></th>\n",
       "      <th>name</th>\n",
       "      <th>handedness</th>\n",
       "      <th>height</th>\n",
       "      <th>weight</th>\n",
       "      <th>avg</th>\n",
       "      <th>HR</th>\n",
       "    </tr>\n",
       "  </thead>\n",
       "  <tbody>\n",
       "    <tr>\n",
       "      <th>0</th>\n",
       "      <td>Tom Brown</td>\n",
       "      <td>R</td>\n",
       "      <td>73</td>\n",
       "      <td>170</td>\n",
       "      <td>0.000</td>\n",
       "      <td>0</td>\n",
       "    </tr>\n",
       "    <tr>\n",
       "      <th>1</th>\n",
       "      <td>Denny Lemaster</td>\n",
       "      <td>R</td>\n",
       "      <td>73</td>\n",
       "      <td>182</td>\n",
       "      <td>0.130</td>\n",
       "      <td>4</td>\n",
       "    </tr>\n",
       "    <tr>\n",
       "      <th>2</th>\n",
       "      <td>Joe Nolan</td>\n",
       "      <td>L</td>\n",
       "      <td>71</td>\n",
       "      <td>175</td>\n",
       "      <td>0.263</td>\n",
       "      <td>27</td>\n",
       "    </tr>\n",
       "    <tr>\n",
       "      <th>3</th>\n",
       "      <td>Denny Doyle</td>\n",
       "      <td>L</td>\n",
       "      <td>69</td>\n",
       "      <td>175</td>\n",
       "      <td>0.250</td>\n",
       "      <td>16</td>\n",
       "    </tr>\n",
       "    <tr>\n",
       "      <th>4</th>\n",
       "      <td>Jose Cardenal</td>\n",
       "      <td>R</td>\n",
       "      <td>70</td>\n",
       "      <td>150</td>\n",
       "      <td>0.275</td>\n",
       "      <td>138</td>\n",
       "    </tr>\n",
       "  </tbody>\n",
       "</table>\n",
       "</div>"
      ],
      "text/plain": [
       "             name handedness  height  weight    avg   HR\n",
       "0       Tom Brown          R      73     170  0.000    0\n",
       "1  Denny Lemaster          R      73     182  0.130    4\n",
       "2       Joe Nolan          L      71     175  0.263   27\n",
       "3     Denny Doyle          L      69     175  0.250   16\n",
       "4   Jose Cardenal          R      70     150  0.275  138"
      ]
     },
     "execution_count": 226,
     "metadata": {},
     "output_type": "execute_result"
    }
   ],
   "source": [
    "# Display the first 5 tweets in the dataframe\n",
    "data.head(5)"
   ]
  },
  {
   "cell_type": "code",
   "execution_count": 227,
   "metadata": {},
   "outputs": [
    {
     "data": {
      "text/plain": [
       "0"
      ]
     },
     "execution_count": 227,
     "metadata": {},
     "output_type": "execute_result"
    }
   ],
   "source": [
    "# Check for duplicates\n",
    "data.duplicated().sum()"
   ]
  },
  {
   "cell_type": "code",
   "execution_count": 228,
   "metadata": {},
   "outputs": [
    {
     "data": {
      "text/plain": [
       "Domingo Ramos        1\n",
       "Tim Harkness         1\n",
       "Tony Cloninger       1\n",
       "Jerry Buchek         1\n",
       "Roberto Pena         1\n",
       "Carmen Fanzone       1\n",
       "Larry Monroe         1\n",
       "Jeff Twitty          1\n",
       "Jerry Reuss          1\n",
       "Dave Nelson          1\n",
       "Johnny Lewis         1\n",
       "Tony Perez           1\n",
       "Frank Fernandez      1\n",
       "Carl Morton          1\n",
       "Bob Forsch           1\n",
       "Dave Cash            1\n",
       "Jose Tartabull       1\n",
       "Tom Klawitter        1\n",
       "Barry Bonnell        1\n",
       "Lou Clinton          1\n",
       "Paul Hartzell        1\n",
       "Mike Loynd           1\n",
       "Larry Stahl          1\n",
       "Francisco Barrios    1\n",
       "Len Whitehouse       1\n",
       "Jim Barr             1\n",
       "Jack Heidemann       1\n",
       "Sherman Corbett      1\n",
       "Phil Huffman         1\n",
       "Danny Thompson       1\n",
       "                    ..\n",
       "Bob Kearney          1\n",
       "Tim Johnson          1\n",
       "Dave McNally         1\n",
       "Kurt Bevacqua        1\n",
       "Todd Fischer         1\n",
       "Glenn Burke          1\n",
       "Chuck Harrison       1\n",
       "Craig Chamberlain    1\n",
       "Don Money            1\n",
       "Barry Evans          1\n",
       "Allan Ramirez        1\n",
       "Jim Spencer          1\n",
       "Bill Sharp           1\n",
       "Rob Woodward         1\n",
       "Larry Cox            1\n",
       "Al Woods             1\n",
       "Rich McKinney        1\n",
       "Cliff Johnson        1\n",
       "Wayne Tolleson       1\n",
       "Mike Young           1\n",
       "John Lowenstein      1\n",
       "Ken Gerhart          1\n",
       "Tim Cullen           1\n",
       "Steve Adkins         1\n",
       "Pete LaCock          1\n",
       "Steve Whitaker       1\n",
       "Brian Snyder         1\n",
       "Bombo Rivera         1\n",
       "Jim Rice             1\n",
       "J.R. Richard         1\n",
       "Name: name, Length: 1151, dtype: int64"
      ]
     },
     "execution_count": 228,
     "metadata": {},
     "output_type": "execute_result"
    }
   ],
   "source": [
    "data.name.value_counts()"
   ]
  },
  {
   "cell_type": "code",
   "execution_count": 235,
   "metadata": {},
   "outputs": [
    {
     "data": {
      "text/html": [
       "<div>\n",
       "<style>\n",
       "    .dataframe thead tr:only-child th {\n",
       "        text-align: right;\n",
       "    }\n",
       "\n",
       "    .dataframe thead th {\n",
       "        text-align: left;\n",
       "    }\n",
       "\n",
       "    .dataframe tbody tr th {\n",
       "        vertical-align: top;\n",
       "    }\n",
       "</style>\n",
       "<table border=\"1\" class=\"dataframe\">\n",
       "  <thead>\n",
       "    <tr style=\"text-align: right;\">\n",
       "      <th></th>\n",
       "      <th>height</th>\n",
       "      <th>weight</th>\n",
       "      <th>avg</th>\n",
       "      <th>HR</th>\n",
       "    </tr>\n",
       "  </thead>\n",
       "  <tbody>\n",
       "    <tr>\n",
       "      <th>count</th>\n",
       "      <td>1151.000000</td>\n",
       "      <td>1151.000000</td>\n",
       "      <td>1151.000000</td>\n",
       "      <td>1151.000000</td>\n",
       "    </tr>\n",
       "    <tr>\n",
       "      <th>mean</th>\n",
       "      <td>72.755864</td>\n",
       "      <td>184.519548</td>\n",
       "      <td>0.187387</td>\n",
       "      <td>45.587315</td>\n",
       "    </tr>\n",
       "    <tr>\n",
       "      <th>std</th>\n",
       "      <td>2.144842</td>\n",
       "      <td>15.462586</td>\n",
       "      <td>0.105866</td>\n",
       "      <td>74.190384</td>\n",
       "    </tr>\n",
       "    <tr>\n",
       "      <th>min</th>\n",
       "      <td>65.000000</td>\n",
       "      <td>140.000000</td>\n",
       "      <td>0.000000</td>\n",
       "      <td>0.000000</td>\n",
       "    </tr>\n",
       "    <tr>\n",
       "      <th>25%</th>\n",
       "      <td>71.000000</td>\n",
       "      <td>175.000000</td>\n",
       "      <td>0.145000</td>\n",
       "      <td>1.000000</td>\n",
       "    </tr>\n",
       "    <tr>\n",
       "      <th>50%</th>\n",
       "      <td>73.000000</td>\n",
       "      <td>185.000000</td>\n",
       "      <td>0.238000</td>\n",
       "      <td>16.000000</td>\n",
       "    </tr>\n",
       "    <tr>\n",
       "      <th>75%</th>\n",
       "      <td>74.000000</td>\n",
       "      <td>195.000000</td>\n",
       "      <td>0.258000</td>\n",
       "      <td>55.000000</td>\n",
       "    </tr>\n",
       "    <tr>\n",
       "      <th>max</th>\n",
       "      <td>80.000000</td>\n",
       "      <td>245.000000</td>\n",
       "      <td>0.328000</td>\n",
       "      <td>563.000000</td>\n",
       "    </tr>\n",
       "  </tbody>\n",
       "</table>\n",
       "</div>"
      ],
      "text/plain": [
       "            height       weight          avg           HR\n",
       "count  1151.000000  1151.000000  1151.000000  1151.000000\n",
       "mean     72.755864   184.519548     0.187387    45.587315\n",
       "std       2.144842    15.462586     0.105866    74.190384\n",
       "min      65.000000   140.000000     0.000000     0.000000\n",
       "25%      71.000000   175.000000     0.145000     1.000000\n",
       "50%      73.000000   185.000000     0.238000    16.000000\n",
       "75%      74.000000   195.000000     0.258000    55.000000\n",
       "max      80.000000   245.000000     0.328000   563.000000"
      ]
     },
     "execution_count": 235,
     "metadata": {},
     "output_type": "execute_result"
    }
   ],
   "source": [
    "# Basic stats\n",
    "data.describe()"
   ]
  },
  {
   "cell_type": "code",
   "execution_count": null,
   "metadata": {},
   "outputs": [],
   "source": [
    "# Create a time series from the data\n",
    "likes = pd.Series(data=data['favorite_count'].values, index=data['timestamp'])\n",
    "retweets = pd.Series(data=data['retweet_count'].values, index=data['timestamp'])"
   ]
  },
  {
   "cell_type": "code",
   "execution_count": null,
   "metadata": {},
   "outputs": [],
   "source": [
    "# Create a plot to compare the likes and retweets along time\n",
    "likes.plot(figsize=(16,4), label='Favorites', color='orange', legend=True)\n",
    "retweets.plot(figsize=(16,4), label='Retweets', color='maroon', legend=True);\n",
    "plt.title('No. of Favorites and Retweets Over Time')\n",
    "plt.show()"
   ]
  },
  {
   "cell_type": "code",
   "execution_count": null,
   "metadata": {},
   "outputs": [],
   "source": [
    "# The tweets with the lowest favorite count\n",
    "data.loc[data['favorite_count'] == 78]"
   ]
  },
  {
   "cell_type": "code",
   "execution_count": 18,
   "metadata": {},
   "outputs": [
    {
     "data": {
      "image/png": "[encoded data removed]",
      "text/plain": [
       "<matplotlib.figure.Figure at 0x110566860>"
      ]
     },
     "metadata": {},
     "output_type": "display_data"
    }
   ],
   "source": [
    "# Create plots to show the height distribution\n",
    "plt.figure(figsize=(5,3))\n",
    "plt.hist(data.height, color='violet')\n",
    "plt.title('Height Distribution')\n",
    "plt.xlabel('Heights (inches)')\n",
    "plt.ylabel('Frequency')\n",
    "plt.show()"
   ]
  },
  {
   "cell_type": "code",
   "execution_count": 19,
   "metadata": {},
   "outputs": [
    {
     "data": {
      "image/png": "[encoded data removed]",
      "text/plain": [
       "<matplotlib.figure.Figure at 0x1169a16a0>"
      ]
     },
     "metadata": {},
     "output_type": "display_data"
    }
   ],
   "source": [
    "# Create plots to show the weight distribution\n",
    "plt.figure(figsize=(5,3))\n",
    "plt.hist(data.weight, color='purple')\n",
    "plt.title('Weight Distribution')\n",
    "plt.xlabel('Weights (pounds)')\n",
    "plt.ylabel('Frequency')\n",
    "plt.show()"
   ]
  },
  {
   "cell_type": "code",
   "execution_count": 20,
   "metadata": {
    "scrolled": true
   },
   "outputs": [
    {
     "data": {
      "image/png": "[encoded data removed]",
      "text/plain": [
       "<matplotlib.figure.Figure at 0x1169ede80>"
      ]
     },
     "metadata": {},
     "output_type": "display_data"
    }
   ],
   "source": [
    "# Create plots to show the handedness distribution\n",
    "plt.figure(figsize=(5,3))\n",
    "plt.hist(data.handedness, color='magenta')\n",
    "plt.title('Handedness Distribution')\n",
    "plt.xlabel('Handedness')\n",
    "plt.ylabel('Frequency')\n",
    "plt.show()"
   ]
  },
  {
   "cell_type": "code",
   "execution_count": 21,
   "metadata": {},
   "outputs": [
    {
     "data": {
      "image/png": "[encoded data removed]",
      "text/plain": [
       "<matplotlib.figure.Figure at 0x116a0fcf8>"
      ]
     },
     "metadata": {},
     "output_type": "display_data"
    }
   ],
   "source": [
    "# Plot the top 10 players with hume runs\n",
    "data = data.sort_values('HR', ascending=False)\n",
    "\n",
    "plt.figure(figsize=(8,4))\n",
    "plt.barh(data.name[0:10], data.HR[0:10], color='orchid')\n",
    "plt.title('Top 10 Players with Home Runs')\n",
    "plt.xlabel('Home Runs')\n",
    "plt.ylabel('Players')\n",
    "plt.show()"
   ]
  },
  {
   "cell_type": "code",
   "execution_count": 22,
   "metadata": {},
   "outputs": [
    {
     "data": {
      "text/html": [
       "<div>\n",
       "<style>\n",
       "    .dataframe thead tr:only-child th {\n",
       "        text-align: right;\n",
       "    }\n",
       "\n",
       "    .dataframe thead th {\n",
       "        text-align: left;\n",
       "    }\n",
       "\n",
       "    .dataframe tbody tr th {\n",
       "        vertical-align: top;\n",
       "    }\n",
       "</style>\n",
       "<table border=\"1\" class=\"dataframe\">\n",
       "  <thead>\n",
       "    <tr style=\"text-align: right;\">\n",
       "      <th></th>\n",
       "      <th>name</th>\n",
       "      <th>handedness</th>\n",
       "      <th>height</th>\n",
       "      <th>weight</th>\n",
       "      <th>avg</th>\n",
       "      <th>HR</th>\n",
       "    </tr>\n",
       "  </thead>\n",
       "  <tbody>\n",
       "    <tr>\n",
       "      <th>656</th>\n",
       "      <td>Reggie Jackson</td>\n",
       "      <td>L</td>\n",
       "      <td>72</td>\n",
       "      <td>195</td>\n",
       "      <td>0.262</td>\n",
       "      <td>563</td>\n",
       "    </tr>\n",
       "    <tr>\n",
       "      <th>995</th>\n",
       "      <td>Mike Schmidt</td>\n",
       "      <td>R</td>\n",
       "      <td>74</td>\n",
       "      <td>195</td>\n",
       "      <td>0.267</td>\n",
       "      <td>548</td>\n",
       "    </tr>\n",
       "    <tr>\n",
       "      <th>972</th>\n",
       "      <td>Willie Stargell</td>\n",
       "      <td>L</td>\n",
       "      <td>74</td>\n",
       "      <td>188</td>\n",
       "      <td>0.282</td>\n",
       "      <td>475</td>\n",
       "    </tr>\n",
       "    <tr>\n",
       "      <th>422</th>\n",
       "      <td>Carl Yastrzemski</td>\n",
       "      <td>L</td>\n",
       "      <td>71</td>\n",
       "      <td>175</td>\n",
       "      <td>0.285</td>\n",
       "      <td>452</td>\n",
       "    </tr>\n",
       "    <tr>\n",
       "      <th>45</th>\n",
       "      <td>Dave Kingman</td>\n",
       "      <td>R</td>\n",
       "      <td>78</td>\n",
       "      <td>210</td>\n",
       "      <td>0.236</td>\n",
       "      <td>442</td>\n",
       "    </tr>\n",
       "    <tr>\n",
       "      <th>16</th>\n",
       "      <td>Darrell Evans</td>\n",
       "      <td>L</td>\n",
       "      <td>74</td>\n",
       "      <td>200</td>\n",
       "      <td>0.248</td>\n",
       "      <td>414</td>\n",
       "    </tr>\n",
       "    <tr>\n",
       "      <th>295</th>\n",
       "      <td>Graig Nettles</td>\n",
       "      <td>L</td>\n",
       "      <td>72</td>\n",
       "      <td>180</td>\n",
       "      <td>0.248</td>\n",
       "      <td>390</td>\n",
       "    </tr>\n",
       "    <tr>\n",
       "      <th>761</th>\n",
       "      <td>Johnny Bench</td>\n",
       "      <td>R</td>\n",
       "      <td>73</td>\n",
       "      <td>197</td>\n",
       "      <td>0.267</td>\n",
       "      <td>389</td>\n",
       "    </tr>\n",
       "    <tr>\n",
       "      <th>1052</th>\n",
       "      <td>Jim Rice</td>\n",
       "      <td>R</td>\n",
       "      <td>74</td>\n",
       "      <td>200</td>\n",
       "      <td>0.298</td>\n",
       "      <td>382</td>\n",
       "    </tr>\n",
       "    <tr>\n",
       "      <th>203</th>\n",
       "      <td>Tony Perez</td>\n",
       "      <td>R</td>\n",
       "      <td>74</td>\n",
       "      <td>175</td>\n",
       "      <td>0.279</td>\n",
       "      <td>379</td>\n",
       "    </tr>\n",
       "  </tbody>\n",
       "</table>\n",
       "</div>"
      ],
      "text/plain": [
       "                  name handedness  height  weight    avg   HR\n",
       "656     Reggie Jackson          L      72     195  0.262  563\n",
       "995       Mike Schmidt          R      74     195  0.267  548\n",
       "972    Willie Stargell          L      74     188  0.282  475\n",
       "422   Carl Yastrzemski          L      71     175  0.285  452\n",
       "45        Dave Kingman          R      78     210  0.236  442\n",
       "16       Darrell Evans          L      74     200  0.248  414\n",
       "295      Graig Nettles          L      72     180  0.248  390\n",
       "761       Johnny Bench          R      73     197  0.267  389\n",
       "1052          Jim Rice          R      74     200  0.298  382\n",
       "203         Tony Perez          R      74     175  0.279  379"
      ]
     },
     "execution_count": 22,
     "metadata": {},
     "output_type": "execute_result"
    }
   ],
   "source": [
    "filtered = data[0:10]\n",
    "filtered"
   ]
  },
  {
   "cell_type": "code",
   "execution_count": 23,
   "metadata": {
    "collapsed": true
   },
   "outputs": [],
   "source": [
    "filtered = data.sort_values('height', ascending=False)\n",
    "filtered = filtered[0:10]"
   ]
  },
  {
   "cell_type": "code",
   "execution_count": 24,
   "metadata": {},
   "outputs": [
    {
     "data": {
      "image/png": "[encoded data removed]",
      "text/plain": [
       "<matplotlib.figure.Figure at 0x119e2c908>"
      ]
     },
     "metadata": {},
     "output_type": "display_data"
    }
   ],
   "source": [
    "# Plot the top 10 tallest players\n",
    "#value_counts()[10::-1]\n",
    "\n",
    "plt.figure(figsize=(8,4))\n",
    "plt.barh(filtered.name, filtered.height, color='pink')\n",
    "plt.title('Top 10 Tallest Players')\n",
    "plt.xlabel('Height (inches)')\n",
    "plt.ylabel('Players')\n",
    "plt.show()"
   ]
  },
  {
   "cell_type": "code",
   "execution_count": 25,
   "metadata": {},
   "outputs": [
    {
     "data": {
      "text/html": [
       "<div>\n",
       "<style>\n",
       "    .dataframe thead tr:only-child th {\n",
       "        text-align: right;\n",
       "    }\n",
       "\n",
       "    .dataframe thead th {\n",
       "        text-align: left;\n",
       "    }\n",
       "\n",
       "    .dataframe tbody tr th {\n",
       "        vertical-align: top;\n",
       "    }\n",
       "</style>\n",
       "<table border=\"1\" class=\"dataframe\">\n",
       "  <thead>\n",
       "    <tr style=\"text-align: right;\">\n",
       "      <th></th>\n",
       "      <th>name</th>\n",
       "      <th>handedness</th>\n",
       "      <th>height</th>\n",
       "      <th>weight</th>\n",
       "      <th>avg</th>\n",
       "      <th>HR</th>\n",
       "    </tr>\n",
       "  </thead>\n",
       "  <tbody>\n",
       "    <tr>\n",
       "      <th>1124</th>\n",
       "      <td>Stefan Wever</td>\n",
       "      <td>R</td>\n",
       "      <td>80</td>\n",
       "      <td>245</td>\n",
       "      <td>0.000</td>\n",
       "      <td>0</td>\n",
       "    </tr>\n",
       "    <tr>\n",
       "      <th>789</th>\n",
       "      <td>Dave Frost</td>\n",
       "      <td>R</td>\n",
       "      <td>78</td>\n",
       "      <td>235</td>\n",
       "      <td>0.000</td>\n",
       "      <td>0</td>\n",
       "    </tr>\n",
       "    <tr>\n",
       "      <th>1142</th>\n",
       "      <td>Dave Lemanczyk</td>\n",
       "      <td>R</td>\n",
       "      <td>76</td>\n",
       "      <td>235</td>\n",
       "      <td>0.000</td>\n",
       "      <td>0</td>\n",
       "    </tr>\n",
       "    <tr>\n",
       "      <th>1090</th>\n",
       "      <td>Mike Epstein</td>\n",
       "      <td>L</td>\n",
       "      <td>75</td>\n",
       "      <td>230</td>\n",
       "      <td>0.244</td>\n",
       "      <td>130</td>\n",
       "    </tr>\n",
       "    <tr>\n",
       "      <th>128</th>\n",
       "      <td>Ben Callahan</td>\n",
       "      <td>R</td>\n",
       "      <td>79</td>\n",
       "      <td>230</td>\n",
       "      <td>0.000</td>\n",
       "      <td>0</td>\n",
       "    </tr>\n",
       "    <tr>\n",
       "      <th>866</th>\n",
       "      <td>Boog Powell</td>\n",
       "      <td>L</td>\n",
       "      <td>76</td>\n",
       "      <td>230</td>\n",
       "      <td>0.266</td>\n",
       "      <td>339</td>\n",
       "    </tr>\n",
       "    <tr>\n",
       "      <th>837</th>\n",
       "      <td>Steve Renko</td>\n",
       "      <td>R</td>\n",
       "      <td>77</td>\n",
       "      <td>230</td>\n",
       "      <td>0.215</td>\n",
       "      <td>6</td>\n",
       "    </tr>\n",
       "    <tr>\n",
       "      <th>77</th>\n",
       "      <td>Walt Bond</td>\n",
       "      <td>L</td>\n",
       "      <td>79</td>\n",
       "      <td>228</td>\n",
       "      <td>0.256</td>\n",
       "      <td>41</td>\n",
       "    </tr>\n",
       "    <tr>\n",
       "      <th>474</th>\n",
       "      <td>Bob Ferris</td>\n",
       "      <td>R</td>\n",
       "      <td>78</td>\n",
       "      <td>225</td>\n",
       "      <td>0.000</td>\n",
       "      <td>0</td>\n",
       "    </tr>\n",
       "    <tr>\n",
       "      <th>315</th>\n",
       "      <td>Rick Henninger</td>\n",
       "      <td>R</td>\n",
       "      <td>78</td>\n",
       "      <td>225</td>\n",
       "      <td>0.000</td>\n",
       "      <td>0</td>\n",
       "    </tr>\n",
       "  </tbody>\n",
       "</table>\n",
       "</div>"
      ],
      "text/plain": [
       "                name handedness  height  weight    avg   HR\n",
       "1124    Stefan Wever          R      80     245  0.000    0\n",
       "789       Dave Frost          R      78     235  0.000    0\n",
       "1142  Dave Lemanczyk          R      76     235  0.000    0\n",
       "1090    Mike Epstein          L      75     230  0.244  130\n",
       "128     Ben Callahan          R      79     230  0.000    0\n",
       "866      Boog Powell          L      76     230  0.266  339\n",
       "837      Steve Renko          R      77     230  0.215    6\n",
       "77         Walt Bond          L      79     228  0.256   41\n",
       "474       Bob Ferris          R      78     225  0.000    0\n",
       "315   Rick Henninger          R      78     225  0.000    0"
      ]
     },
     "execution_count": 25,
     "metadata": {},
     "output_type": "execute_result"
    }
   ],
   "source": [
    "filtered = data.sort_values('weight', ascending=False)\n",
    "filtered = filtered[0:10]\n",
    "filtered"
   ]
  },
  {
   "cell_type": "code",
   "execution_count": 26,
   "metadata": {},
   "outputs": [
    {
     "data": {
      "image/png": "[encoded data removed]",
      "text/plain": [
       "<matplotlib.figure.Figure at 0x119fe8780>"
      ]
     },
     "metadata": {},
     "output_type": "display_data"
    }
   ],
   "source": [
    "# Plot the top 10 weights players\n",
    "plt.figure(figsize=(8,4))\n",
    "plt.barh(filtered.name, filtered.weight, color='maroon')\n",
    "plt.title('Top 10 Tallest Players')\n",
    "plt.xlabel('Weight (pounds)')\n",
    "plt.ylabel('Players')\n",
    "plt.show()"
   ]
  },
  {
   "cell_type": "code",
   "execution_count": 27,
   "metadata": {},
   "outputs": [
    {
     "ename": "NameError",
     "evalue": "name 'positives_percent' is not defined",
     "output_type": "error",
     "traceback": [
      "\u001b[0;31m---------------------------------------------------------------------------\u001b[0m",
      "\u001b[0;31mNameError\u001b[0m                                 Traceback (most recent call last)",
      "\u001b[0;32m<ipython-input-27-b4842e476762>\u001b[0m in \u001b[0;36m<module>\u001b[0;34m()\u001b[0m\n\u001b[1;32m      1\u001b[0m \u001b[0;31m# Construct a dictionary holding all the percentages\u001b[0m\u001b[0;34m\u001b[0m\u001b[0;34m\u001b[0m\u001b[0m\n\u001b[0;32m----> 2\u001b[0;31m \u001b[0mclassification\u001b[0m \u001b[0;34m=\u001b[0m \u001b[0;34m{\u001b[0m\u001b[0;34m'positive'\u001b[0m\u001b[0;34m:\u001b[0m\u001b[0mpositives_percent\u001b[0m\u001b[0;34m,\u001b[0m \u001b[0;34m'neutral'\u001b[0m\u001b[0;34m:\u001b[0m\u001b[0mneutrals_percent\u001b[0m\u001b[0;34m,\u001b[0m \u001b[0;34m'negative'\u001b[0m\u001b[0;34m:\u001b[0m\u001b[0mnegatives_percent\u001b[0m\u001b[0;34m}\u001b[0m\u001b[0;34m\u001b[0m\u001b[0m\n\u001b[0m\u001b[1;32m      3\u001b[0m \u001b[0;34m\u001b[0m\u001b[0m\n\u001b[1;32m      4\u001b[0m \u001b[0;31m# Create a time series from the classification data\u001b[0m\u001b[0;34m\u001b[0m\u001b[0;34m\u001b[0m\u001b[0m\n\u001b[1;32m      5\u001b[0m \u001b[0mseries\u001b[0m \u001b[0;34m=\u001b[0m \u001b[0mpd\u001b[0m\u001b[0;34m.\u001b[0m\u001b[0mSeries\u001b[0m\u001b[0;34m(\u001b[0m\u001b[0mclassification\u001b[0m\u001b[0;34m,\u001b[0m \u001b[0mname\u001b[0m\u001b[0;34m=\u001b[0m\u001b[0;34m'@WeRateDogs Tweets Classification'\u001b[0m\u001b[0;34m)\u001b[0m\u001b[0;34m\u001b[0m\u001b[0m\n",
      "\u001b[0;31mNameError\u001b[0m: name 'positives_percent' is not defined"
     ]
    }
   ],
   "source": [
    "# Construct a dictionary holding all the percentages\n",
    "classification = {'positive':positives_percent, 'neutral':neutrals_percent, 'negative':negatives_percent}\n",
    "\n",
    "# Create a time series from the classification data\n",
    "series = pd.Series(classification, name='@WeRateDogs Tweets Classification')\n",
    "\n",
    "# Visualize the result in a pie chart\n",
    "series.plot.pie(fontsize=14, autopct='%.2f', figsize=(5, 5), colors=['gray', 'orange', 'maroon']);\n",
    "plt.show();"
   ]
  },
  {
   "cell_type": "markdown",
   "metadata": {},
   "source": [
    "## Tableau Public Workbook\n",
    "link\n",
    "\n",
    "Idea using Tableau: https://public.tableau.com/views/StoryWithData/Story?:embed=y&:loadOrderID=1&:display_count=yes&:showTabs=y&:showVizHome=no"
   ]
  },
  {
   "cell_type": "markdown",
   "metadata": {},
   "source": [
    "## Summary\n",
    "in no more than 4 sentences, briefly introduce your data visualization and add any context that can help readers understand it\n",
    "\n",
    "** Goal **\n",
    "* Create a visualization that shows differences among the performance of the baseball players.\n",
    "* Your goal is to build evidence that you have shared your visualization, received feedback, and responded to that feedback. You need to submit an initial version of your data visualization and the final version with the corresponding write-up.\n",
    "* Determine the relationship between a baseball player's weight and home runs\n",
    "* I chose to create a visualization using d3.js and dimple.js because it allowed me to easily chart csv data and communicate my findings .\n",
    "\n",
    "** Dataset Overview **\n",
    "A baseball dataset containing 1,157 baseball players including their;\n",
    "* name\n",
    "* handedness (right or left handed)\n",
    "* height (in inches)\n",
    "* weight (in pounds)\n",
    "* batting average\n",
    "* home runs\n",
    "There are 305 players in the dataset, all with 50 or more home runs hit. The average player's weight is 187 pounds, illustrated by the green reference line on the chart. It was found that players with weights around this average scored the most amount of home runs. The visualization charts this relationship. Hovering over each dot, you are given the player's name, batting average (bavg), handedness, weight, and number of home runs. The dots are color coded based on the information in the legend, where you can click each category to filter the data. Try it out!\n",
    "http://bl.ocks.org/jkreisle/raw/73323bc6ba757f64c012dbdccb4c1922/\n",
    "https://bl.ocks.org/mmlak-0109/raw/dc7319d8c4a9df9cdcf393b4c6ada4e4/\n",
    "https://public.tableau.com/en-us/search/all/baseball%20udacity\n",
    "\n",
    "** Findings **\n",
    "Players with weights around average weight scored the most amount of home runs.\n",
    "\n",
    "** Can be used in my summary writing:**\n",
    "\n",
    "Understand the importance of context\n",
    "\n",
    "Determine the appropriate type of graph\n",
    "\n",
    "Recognize and eliminate the clutter\n",
    "\n",
    "Direct your audience's attention\n",
    "\n",
    "Think like a designer when visualizing data\n",
    "\n",
    "Leverage the power of storytelling to help your message resonate with your audience"
   ]
  },
  {
   "cell_type": "markdown",
   "metadata": {},
   "source": [
    "## Design\n",
    "explain any design choices you made including changes to the visualization after collecting feedback.\n",
    "\n",
    "First, sketch ideas for your visualization. Once you settle on a sketch, explain any design choices in that sketch, such as chart type, visual encodings, and layout, in the Design section of the write-up. Then, create your visualization using Tableau. The visualization must include animation, interaction, or both.\n",
    "\n",
    "See the Project Rubric for more information:\n",
    "https://review.udacity.com/#!/rubrics/948/view\n",
    "\n",
    "As you improve and iterate on your visualization, update the visualization AND describe any changes in the Design section of the write-up. You should save multiple versions of your data visualization after you make changes to it. Remember to save related files with similar numbers."
   ]
  },
  {
   "cell_type": "markdown",
   "metadata": {},
   "source": [
    "## Feedback\n",
    "include all feedback you received from others on your visualization from the first sketch to the final visualization\n",
    "\n",
    "Share your visualization with at least one other person and document their feedback. There are many ways to get feedback, and more feedback is generally better! Here are some options.\n",
    "* Share your visualization with others in person and have them think aloud as they read and explore the graphic so you can document what stands out to them and how they interpret the graphic.\n",
    "* Share a link to your project in your Study Group, or Slack community, depending on what version of the program you are in, and ask others to share their constructive criticisms. Be sure to offer advice to others who are seeking feedback too!\n",
    "\n",
    "You might need to ask specific questions to prompt the reader. Here are some questions to help you. You can, of course, ask others.\n",
    "\n",
    "* What do you notice in the visualization?\n",
    "* What questions do you have about the data?\n",
    "* What relationships do you notice?\n",
    "* What do you think is the main takeaway from this visualization?\n",
    "* Is there something you don’t understand in the graphic?\n",
    "\n",
    "For each person that gives you feedback, add the person’s feedback to your write-up file in the Feedback section. "
   ]
  },
  {
   "cell_type": "markdown",
   "metadata": {},
   "source": [
    "## Resources\n",
    "list any sources you consulted to create your visualization\n",
    "* http://www.storytellingwithdata.com\n",
    "* https://policyviz.com/blog/\n",
    "* https://www.data-to-viz.com/\n",
    "* https://www.data-to-viz.com/caveats.html\n",
    "\n",
    "**Dataset Options**\n",
    "https://docs.google.com/document/d/1w7KhqotVi5eoKE3I_AZHbsxdr-NmcWsLTIiZrpxWx4w/pub?embedded=true"
   ]
  },
  {
   "cell_type": "markdown",
   "metadata": {},
   "source": [
    "## Submit\n",
    "Eventually you’ll want to submit your project and share it. To do so, you need to create a zip folder that includes the following:\n",
    "\n",
    "**Write-up**\n",
    "\n",
    "PDF or Markdown file that includes links to your Tableau Public workbooks, published online, and a write-up with four sections. See HERE if you need help publishing your Tableau Public Workbook.\n",
    "\n",
    "Summary:\n",
    "in no more than 4 sentences, briefly introduce your data visualization and add any context that can help readers understand it\n",
    "\n",
    "Design:\n",
    "explain any design choices you made including changes to the visualization after collecting feedback\n",
    "\n",
    "Feedback:\n",
    "include all feedback you received from others on your visualization from the first sketch to the final visualization\n",
    "\n",
    "Resources:\n",
    "list any sources you consulted to create your visualization\n",
    "\n",
    "**Data Files**\n",
    "\n",
    "the final data set used to create the visualization (usually .csv, .tsv, or .json file)\n",
    "a codebook or other files related to the data set (description, readme, license)"
   ]
  },
  {
   "cell_type": "code",
   "execution_count": null,
   "metadata": {
    "collapsed": true
   },
   "outputs": [],
   "source": []
  }
 ],
 "metadata": {
  "kernelspec": {
   "display_name": "Python 3",
   "language": "python",
   "name": "python3"
  },
  "language_info": {
   "codemirror_mode": {
    "name": "ipython",
    "version": 3
   },
   "file_extension": ".py",
   "mimetype": "text/x-python",
   "name": "python",
   "nbconvert_exporter": "python",
   "pygments_lexer": "ipython3",
   "version": "3.6.3"
  }
 },
 "nbformat": 4,
 "nbformat_minor": 2
}
