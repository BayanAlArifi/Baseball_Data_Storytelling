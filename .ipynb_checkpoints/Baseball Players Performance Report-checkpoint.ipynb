{
 "cells": [
  {
   "cell_type": "markdown",
   "metadata": {},
   "source": [
    "# Baseball Players Performance\n",
    "## Table of Contents\n",
    "<ul>\n",
    "<li><a href=\"#intro\">Introduction</a></li>\n",
    "<li><a href=\"#Summary\">Summary</a></li>\n",
    "<li><a href=\"#Design\">Design</a></li>\n",
    "<li><a href=\"#Feedback\">Feedback</a></li>\n",
    "<li><a href=\"#Findings\">Findings</a></li>\n",
    "<li><a href=\"#Resources\">Resources</a></li>\n",
    "</ul>"
   ]
  },
  {
   "cell_type": "markdown",
   "metadata": {},
   "source": [
    "<a id='intro'></a>\n",
    "## Introduction\n",
    "This report presents the data visualization steps taken on the baseball players performance data, and communicate the\n",
    "findings and patterns found. The analysis and visualization was done using Python and Tableau, and a dataset containing 1,157 baseball players."
   ]
  },
  {
   "cell_type": "markdown",
   "metadata": {},
   "source": [
    "### Dataset Overview\n",
    "A baseball dataset containing 1,151 baseball players including their;\n",
    "* name: first and last name\n",
    "* handedness: right or left handed\n",
    "* height: in inches\n",
    "* weight: in pounds\n",
    "* avg: batting average\n",
    "* HR: home runs"
   ]
  },
  {
   "cell_type": "markdown",
   "metadata": {},
   "source": [
    "<a id='Summary'></a>\n",
    "## Summary\n",
    "in no more than 4 sentences, briefly introduce your data visualization and add any context that can help readers understand it\n",
    "\n",
    "Different visualization techniques were used to communicate insights on the performanc of the baseball players. More specifically, the relationship between the variables handedness, batting average, height, and weight were analyzed to explore their effect on how many home run hits a players gets. This was visualized using bar and pie charts. A chart was created for each dimention/variable.\n",
    "\n",
    "** Goal **\n",
    "* Create a visualization that shows differences among the performance of the baseball players.\n",
    "* Your goal is to build evidence that you have shared your visualization, received feedback, and responded to that feedback. You need to submit an initial version of your data visualization and the final version with the corresponding write-up.\n",
    "* Determine the relationship between a baseball player's weight and home runs\n",
    "* I chose to create a visualization using d3.js and dimple.js because it allowed me to easily chart csv data and communicate my findings ."
   ]
  },
  {
   "cell_type": "markdown",
   "metadata": {},
   "source": [
    "<a id='Design'></a>\n",
    "## Design\n",
    "explain any design choices you made including changes to the visualization after collecting feedback.\n",
    "\n",
    "First, sketch ideas for your visualization. Once you settle on a sketch, explain any design choices in that sketch, such as chart type, visual encodings, and layout, in the Design section of the write-up. Then, create your visualization using Tableau. The visualization must include animation, interaction, or both.\n",
    "\n",
    "See the Project Rubric for more information:\n",
    "https://review.udacity.com/#!/rubrics/948/view\n",
    "\n",
    "As you improve and iterate on your visualization, update the visualization AND describe any changes in the Design section of the write-up. You should save multiple versions of your data visualization after you make changes to it. Remember to save related files with similar numbers.\n",
    "\n",
    "### Initial Design\n",
    "Tableau Public Workbook (1st Story): https://public.tableau.com/profile/irina.munteanu#!/vizhome/Story1_194/Story1"
   ]
  },
  {
   "cell_type": "markdown",
   "metadata": {},
   "source": [
    "<a id='Feedback'></a>\n",
    "## Feedback\n",
    "\n",
    "As a response to the feedback, a new .... was produced. This new visualization combines all the charts in one with interface elements on the right to help the reader interact with the chart, showing different metrics and how they relate/affected the top players home runs.\n",
    "\n",
    "include all feedback you received from others on your visualization from the first sketch to the final visualization\n",
    "\n",
    "Share your visualization with at least one other person and document their feedback. There are many ways to get feedback, and more feedback is generally better! Here are some options.\n",
    "* Share your visualization with others in person and have them think aloud as they read and explore the graphic so you can document what stands out to them and how they interpret the graphic.\n",
    "* Share a link to your project in your Study Group, or Slack community, depending on what version of the program you are in, and ask others to share their constructive criticisms. Be sure to offer advice to others who are seeking feedback too!\n",
    "\n",
    "You might need to ask specific questions to prompt the reader. Here are some questions to help you. You can, of course, ask others.\n",
    "\n",
    "* What do you notice in the visualization?\n",
    "* What questions do you have about the data?\n",
    "* What relationships do you notice?\n",
    "* What do you think is the main takeaway from this visualization?\n",
    "* Is there something you don’t understand in the graphic?\n",
    "\n",
    "**Reviewer's Feedback**\n",
    "* It is difficult to track whether or not the same player exists in the top players for each dimention.\n",
    "* I suggest that the charts only focus on the top players. There's no need in this scenario to review all the players.\n",
    "* \n",
    "\n",
    "All charts were combined in one interactive bar chart, where the focus was on the top players with hom run hits only. The chart shows the player's name, handedness, and home runs. Only these dimentions are fixed. The rest of the dimentions weight, height and batting average are dynamically shown when chosen in order to see how each of these metrics relate to high home run hits. In the legend, there are interface elements to help interact with the chart dynamically. Moreover, there's a choice of metric to show as a bullet-point list, and a summary of the home runs dimention and the metric. The metric bars are color-coded based on the metric choice. Hovering over each bar shows the the player's name, handedness, home runs, and the chosen metric; batting average, weight, and height. The average of the top performaing players for each metric is illustrated by the dashed reference line on the chart. It was found that players with weights around this average scored the most amount of home runs.\n",
    "\n",
    "### Final Design\n",
    "Tableau Public Workbook (2nd Story): https://public.tableau.com/profile/irina.munteanu#!/vizhome/Story2_22/PerformanceinBaseb"
   ]
  },
  {
   "cell_type": "markdown",
   "metadata": {},
   "source": [
    "<a id='Findings'></a>\n",
    "## Findings\n",
    "* The following table shows briefly summarizes the players in the dataset.\n",
    "  ![image.png](table.png)\n",
    "\n",
    "* Players with weights around average weight of 184 scored the most amount of home runs.\n",
    "* There is no clear relationship between performance and weight.\n",
    "* The top 10 performing baseball players happen to be;\n",
    "    * right handed\n",
    "    * have a weight between 175 and 210 pounds (average is 191)\n",
    "    * have a height between 71 and 78 inches (average is 73)\n",
    "    * have a batting score between 0.236 and 0.298 (average is 0.2672)\n",
    "\n",
    "http://bl.ocks.org/jkreisle/raw/73323bc6ba757f64c012dbdccb4c1922/\n",
    "https://bl.ocks.org/mmlak-0109/raw/dc7319d8c4a9df9cdcf393b4c6ada4e4/\n",
    "https://public.tableau.com/en-us/search/all/baseball%20udacity\n",
    "\n",
    "** Can be used in my summary writing:**\n",
    "\n",
    "Understand the importance of context\n",
    "\n",
    "Determine the appropriate type of graph\n",
    "\n",
    "Recognize and eliminate the clutter\n",
    "\n",
    "Direct your audience's attention\n",
    "\n",
    "Think like a designer when visualizing data\n",
    "\n",
    "Leverage the power of storytelling to help your message resonate with your audience"
   ]
  },
  {
   "cell_type": "markdown",
   "metadata": {},
   "source": [
    "<a id='Resources'></a>\n",
    "## Resources\n",
    "list any sources you consulted to create your visualization\n",
    "* http://www.storytellingwithdata.com\n",
    "* https://policyviz.com/blog/\n",
    "* https://www.data-to-viz.com/\n",
    "* https://www.data-to-viz.com/caveats.html"
   ]
  }
 ],
 "metadata": {
  "kernelspec": {
   "display_name": "Python 3",
   "language": "python",
   "name": "python3"
  },
  "language_info": {
   "codemirror_mode": {
    "name": "ipython",
    "version": 3
   },
   "file_extension": ".py",
   "mimetype": "text/x-python",
   "name": "python",
   "nbconvert_exporter": "python",
   "pygments_lexer": "ipython3",
   "version": "3.6.3"
  }
 },
 "nbformat": 4,
 "nbformat_minor": 2
}
